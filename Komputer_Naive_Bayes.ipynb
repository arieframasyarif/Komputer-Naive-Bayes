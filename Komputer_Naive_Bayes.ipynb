{
  "nbformat": 4,
  "nbformat_minor": 0,
  "metadata": {
    "colab": {
      "name": "Komputer-Naive Bayes.ipynb",
      "version": "0.3.2",
      "provenance": [],
      "collapsed_sections": [],
      "include_colab_link": true
    },
    "kernelspec": {
      "name": "python2",
      "display_name": "Python 2"
    }
  },
  "cells": [
    {
      "cell_type": "markdown",
      "metadata": {
        "id": "view-in-github",
        "colab_type": "text"
      },
      "source": [
        "<a href=\"https://colab.research.google.com/github/arieframasyarif/Komputer-Naive-Bayes/blob/master/Komputer_Naive_Bayes.ipynb\" target=\"_parent\"><img src=\"https://colab.research.google.com/assets/colab-badge.svg\" alt=\"Open In Colab\"/></a>"
      ]
    },
    {
      "cell_type": "markdown",
      "metadata": {
        "id": "t7fdZffbAz6x",
        "colab_type": "text"
      },
      "source": [
        "**EXTRACT DATA FROM GOOGLE DRIVE**"
      ]
    },
    {
      "cell_type": "code",
      "metadata": {
        "id": "J3ZTBglFajyi",
        "colab_type": "code",
        "outputId": "7e3fd8d1-59b3-4cc6-8a49-1b4c8deb6b32",
        "colab": {
          "base_uri": "https://localhost:8080/",
          "height": 126
        }
      },
      "source": [
        "#Mount Google Drive\n",
        "\n",
        "from google.colab import drive\n",
        "drive.mount('/content/gdrive')"
      ],
      "execution_count": 1,
      "outputs": [
        {
          "output_type": "stream",
          "text": [
            "Go to this URL in a browser: https://accounts.google.com/o/oauth2/auth?client_id=947318989803-6bn6qk8qdgf4n4g3pfee6491hc0brc4i.apps.googleusercontent.com&redirect_uri=urn%3Aietf%3Awg%3Aoauth%3A2.0%3Aoob&scope=email%20https%3A%2F%2Fwww.googleapis.com%2Fauth%2Fdocs.test%20https%3A%2F%2Fwww.googleapis.com%2Fauth%2Fdrive%20https%3A%2F%2Fwww.googleapis.com%2Fauth%2Fdrive.photos.readonly%20https%3A%2F%2Fwww.googleapis.com%2Fauth%2Fpeopleapi.readonly&response_type=code\n",
            "\n",
            "Enter your authorization code:\n",
            "··········\n",
            "Mounted at /content/gdrive\n"
          ],
          "name": "stdout"
        }
      ]
    },
    {
      "cell_type": "code",
      "metadata": {
        "id": "xcDTbfA_a5mC",
        "colab_type": "code",
        "outputId": "6332b298-d3de-40ad-c6bb-c38cbac6e401",
        "colab": {
          "base_uri": "https://localhost:8080/",
          "height": 201
        }
      },
      "source": [
        "#Explore dataset\n",
        "\n",
        "import pandas as pd\n",
        "import numpy as np\n",
        "\n",
        "df = pd.read_csv('/content/gdrive/My Drive/Komputer-Naive Bayes/Transaksi pembelian komputer -Training.csv')\n",
        "komputer = pd.DataFrame(df)\n",
        "komputer.head()"
      ],
      "execution_count": 30,
      "outputs": [
        {
          "output_type": "execute_result",
          "data": {
            "text/html": [
              "<div>\n",
              "<style scoped>\n",
              "    .dataframe tbody tr th:only-of-type {\n",
              "        vertical-align: middle;\n",
              "    }\n",
              "\n",
              "    .dataframe tbody tr th {\n",
              "        vertical-align: top;\n",
              "    }\n",
              "\n",
              "    .dataframe thead th {\n",
              "        text-align: right;\n",
              "    }\n",
              "</style>\n",
              "<table border=\"1\" class=\"dataframe\">\n",
              "  <thead>\n",
              "    <tr style=\"text-align: right;\">\n",
              "      <th></th>\n",
              "      <th>Usia</th>\n",
              "      <th>Pendapatan</th>\n",
              "      <th>Pelajar</th>\n",
              "      <th>Kredit</th>\n",
              "      <th>Label</th>\n",
              "    </tr>\n",
              "  </thead>\n",
              "  <tbody>\n",
              "    <tr>\n",
              "      <th>0</th>\n",
              "      <td>muda</td>\n",
              "      <td>tinggi</td>\n",
              "      <td>tidak</td>\n",
              "      <td>macet</td>\n",
              "      <td>tidak beli</td>\n",
              "    </tr>\n",
              "    <tr>\n",
              "      <th>1</th>\n",
              "      <td>muda</td>\n",
              "      <td>tinggi</td>\n",
              "      <td>tidak</td>\n",
              "      <td>lancar</td>\n",
              "      <td>tidak beli</td>\n",
              "    </tr>\n",
              "    <tr>\n",
              "      <th>2</th>\n",
              "      <td>tengah baya</td>\n",
              "      <td>tinggi</td>\n",
              "      <td>tidak</td>\n",
              "      <td>macet</td>\n",
              "      <td>beli</td>\n",
              "    </tr>\n",
              "    <tr>\n",
              "      <th>3</th>\n",
              "      <td>tua</td>\n",
              "      <td>sedang</td>\n",
              "      <td>tidak</td>\n",
              "      <td>macet</td>\n",
              "      <td>beli</td>\n",
              "    </tr>\n",
              "    <tr>\n",
              "      <th>4</th>\n",
              "      <td>tua</td>\n",
              "      <td>rendah</td>\n",
              "      <td>ya</td>\n",
              "      <td>macet</td>\n",
              "      <td>beli</td>\n",
              "    </tr>\n",
              "  </tbody>\n",
              "</table>\n",
              "</div>"
            ],
            "text/plain": [
              "          Usia Pendapatan  Pelajar Kredit        Label\n",
              "0         muda      tinggi   tidak   macet  tidak beli\n",
              "1         muda     tinggi    tidak  lancar  tidak beli\n",
              "2  tengah baya     tinggi    tidak   macet        beli\n",
              "3          tua      sedang   tidak   macet        beli\n",
              "4          tua      rendah      ya   macet        beli"
            ]
          },
          "metadata": {
            "tags": []
          },
          "execution_count": 30
        }
      ]
    },
    {
      "cell_type": "markdown",
      "metadata": {
        "id": "z4OxbrKaBigt",
        "colab_type": "text"
      },
      "source": [
        "**LabelEncoder & OneHotEncoder**\n",
        "\n",
        "The labelEncoder and OneHotEncoder only works on categorical features. We need first to extract the categorial featuers using boolean mask."
      ]
    },
    {
      "cell_type": "code",
      "metadata": {
        "id": "uyQQYfHAi1Tc",
        "colab_type": "code",
        "colab": {}
      },
      "source": [
        "# Categorical boolean mask\n",
        "categorical_feature_mask = komputer.dtypes==object\n",
        "# filter categorical columns using mask and turn it into a list\n",
        "categorical_cols = komputer.columns[categorical_feature_mask].tolist()"
      ],
      "execution_count": 0,
      "outputs": []
    },
    {
      "cell_type": "code",
      "metadata": {
        "id": "ZKw22JfXjFSI",
        "colab_type": "code",
        "colab": {}
      },
      "source": [
        "# import labelencoder\n",
        "from sklearn.preprocessing import LabelEncoder\n",
        "# instantiate labelencoder object\n",
        "le = LabelEncoder()"
      ],
      "execution_count": 0,
      "outputs": []
    },
    {
      "cell_type": "code",
      "metadata": {
        "id": "56T4p0CEjJ-Z",
        "colab_type": "code",
        "outputId": "01ecfda7-d70e-4c45-9bcb-2454973975c8",
        "colab": {
          "base_uri": "https://localhost:8080/",
          "height": 201
        }
      },
      "source": [
        "# apply le on categorical feature columns\n",
        "komputer[categorical_cols] = komputer[categorical_cols].apply(lambda col: le.fit_transform(col))\n",
        "komputer[categorical_cols].head()"
      ],
      "execution_count": 33,
      "outputs": [
        {
          "output_type": "execute_result",
          "data": {
            "text/html": [
              "<div>\n",
              "<style scoped>\n",
              "    .dataframe tbody tr th:only-of-type {\n",
              "        vertical-align: middle;\n",
              "    }\n",
              "\n",
              "    .dataframe tbody tr th {\n",
              "        vertical-align: top;\n",
              "    }\n",
              "\n",
              "    .dataframe thead th {\n",
              "        text-align: right;\n",
              "    }\n",
              "</style>\n",
              "<table border=\"1\" class=\"dataframe\">\n",
              "  <thead>\n",
              "    <tr style=\"text-align: right;\">\n",
              "      <th></th>\n",
              "      <th>Usia</th>\n",
              "      <th>Pendapatan</th>\n",
              "      <th>Pelajar</th>\n",
              "      <th>Kredit</th>\n",
              "      <th>Label</th>\n",
              "    </tr>\n",
              "  </thead>\n",
              "  <tbody>\n",
              "    <tr>\n",
              "      <th>0</th>\n",
              "      <td>0</td>\n",
              "      <td>2</td>\n",
              "      <td>0</td>\n",
              "      <td>1</td>\n",
              "      <td>1</td>\n",
              "    </tr>\n",
              "    <tr>\n",
              "      <th>1</th>\n",
              "      <td>0</td>\n",
              "      <td>3</td>\n",
              "      <td>0</td>\n",
              "      <td>0</td>\n",
              "      <td>1</td>\n",
              "    </tr>\n",
              "    <tr>\n",
              "      <th>2</th>\n",
              "      <td>1</td>\n",
              "      <td>3</td>\n",
              "      <td>0</td>\n",
              "      <td>1</td>\n",
              "      <td>0</td>\n",
              "    </tr>\n",
              "    <tr>\n",
              "      <th>3</th>\n",
              "      <td>2</td>\n",
              "      <td>1</td>\n",
              "      <td>0</td>\n",
              "      <td>1</td>\n",
              "      <td>0</td>\n",
              "    </tr>\n",
              "    <tr>\n",
              "      <th>4</th>\n",
              "      <td>2</td>\n",
              "      <td>0</td>\n",
              "      <td>1</td>\n",
              "      <td>1</td>\n",
              "      <td>0</td>\n",
              "    </tr>\n",
              "  </tbody>\n",
              "</table>\n",
              "</div>"
            ],
            "text/plain": [
              "   Usia  Pendapatan   Pelajar  Kredit   Label\n",
              "0     0            2        0        1      1\n",
              "1     0            3        0        0      1\n",
              "2     1            3        0        1      0\n",
              "3     2            1        0        1      0\n",
              "4     2            0        1        1      0"
            ]
          },
          "metadata": {
            "tags": []
          },
          "execution_count": 33
        }
      ]
    },
    {
      "cell_type": "code",
      "metadata": {
        "id": "O1Cc8K2ak5nW",
        "colab_type": "code",
        "colab": {}
      },
      "source": [
        "from sklearn.model_selection import train_test_split\n",
        "from sklearn.naive_bayes import MultinomialNB"
      ],
      "execution_count": 0,
      "outputs": []
    },
    {
      "cell_type": "code",
      "metadata": {
        "id": "cSRMIoLYlygU",
        "colab_type": "code",
        "outputId": "a7833cb7-b6a4-4e0c-d208-6ad4bbb74a7d",
        "colab": {
          "base_uri": "https://localhost:8080/",
          "height": 35
        }
      },
      "source": [
        "feature_names = list(komputer.columns)\n",
        "do_not_use_for_training = ['Label']\n",
        "\n",
        "feature_names = [f for f in komputer.columns if f not in do_not_use_for_training]\n",
        "\n",
        "print('Total features : {}'.format(len(feature_names)))\n",
        "\n",
        "komputer[feature_names].count()\n",
        "y = komputer['Label']"
      ],
      "execution_count": 35,
      "outputs": [
        {
          "output_type": "stream",
          "text": [
            "Total features : 4\n"
          ],
          "name": "stdout"
        }
      ]
    },
    {
      "cell_type": "code",
      "metadata": {
        "id": "hcw2loual8qb",
        "colab_type": "code",
        "colab": {}
      },
      "source": [
        "Xtr, Xv, ytr, yv = train_test_split(komputer[feature_names], y, test_size=0.3, random_state=1)"
      ],
      "execution_count": 0,
      "outputs": []
    },
    {
      "cell_type": "markdown",
      "metadata": {
        "id": "snKgU9e2Bu7K",
        "colab_type": "text"
      },
      "source": [
        "**BUILD MODEL**"
      ]
    },
    {
      "cell_type": "code",
      "metadata": {
        "id": "knqllbXImNrZ",
        "colab_type": "code",
        "colab": {}
      },
      "source": [
        "naive_bayes = MultinomialNB()\n",
        "naive_bayes.fit(Xtr, ytr)\n",
        "predictions = naive_bayes.predict(Xv)"
      ],
      "execution_count": 0,
      "outputs": []
    },
    {
      "cell_type": "markdown",
      "metadata": {
        "id": "4KsMVdKfCfTz",
        "colab_type": "text"
      },
      "source": [
        "**EVALUATION**"
      ]
    },
    {
      "cell_type": "code",
      "metadata": {
        "id": "6_Sq3Jicn-4-",
        "colab_type": "code",
        "outputId": "3dda9823-88c1-41c2-eed8-d5265a314473",
        "colab": {
          "base_uri": "https://localhost:8080/",
          "height": 35
        }
      },
      "source": [
        "#Training Score\n",
        "naive_bayes.score(Xtr, ytr)"
      ],
      "execution_count": 38,
      "outputs": [
        {
          "output_type": "execute_result",
          "data": {
            "text/plain": [
              "0.7777777777777778"
            ]
          },
          "metadata": {
            "tags": []
          },
          "execution_count": 38
        }
      ]
    },
    {
      "cell_type": "code",
      "metadata": {
        "id": "DmShEW8ToMoL",
        "colab_type": "code",
        "outputId": "f5653fd3-3aad-4033-884a-07e35e536c88",
        "colab": {
          "base_uri": "https://localhost:8080/",
          "height": 35
        }
      },
      "source": [
        "#Testing Score\n",
        "naive_bayes.score(Xv, yv)"
      ],
      "execution_count": 39,
      "outputs": [
        {
          "output_type": "execute_result",
          "data": {
            "text/plain": [
              "0.6"
            ]
          },
          "metadata": {
            "tags": []
          },
          "execution_count": 39
        }
      ]
    },
    {
      "cell_type": "markdown",
      "metadata": {
        "id": "gWWEqdjGCwRl",
        "colab_type": "text"
      },
      "source": [
        "**PREDICT DATA**"
      ]
    },
    {
      "cell_type": "code",
      "metadata": {
        "id": "B1doREG5oYVQ",
        "colab_type": "code",
        "colab": {}
      },
      "source": [
        "Xv['prediction'] = naive_bayes.predict(Xv)\n",
        "Xv['real_class'] = yv"
      ],
      "execution_count": 0,
      "outputs": []
    },
    {
      "cell_type": "code",
      "metadata": {
        "id": "rtJUuqFBofGy",
        "colab_type": "code",
        "outputId": "be6db64f-cc9c-45ef-a6d1-d600901a613f",
        "colab": {
          "base_uri": "https://localhost:8080/",
          "height": 201
        }
      },
      "source": [
        "Xv.head()\n"
      ],
      "execution_count": 41,
      "outputs": [
        {
          "output_type": "execute_result",
          "data": {
            "text/html": [
              "<div>\n",
              "<style scoped>\n",
              "    .dataframe tbody tr th:only-of-type {\n",
              "        vertical-align: middle;\n",
              "    }\n",
              "\n",
              "    .dataframe tbody tr th {\n",
              "        vertical-align: top;\n",
              "    }\n",
              "\n",
              "    .dataframe thead th {\n",
              "        text-align: right;\n",
              "    }\n",
              "</style>\n",
              "<table border=\"1\" class=\"dataframe\">\n",
              "  <thead>\n",
              "    <tr style=\"text-align: right;\">\n",
              "      <th></th>\n",
              "      <th>Usia</th>\n",
              "      <th>Pendapatan</th>\n",
              "      <th>Pelajar</th>\n",
              "      <th>Kredit</th>\n",
              "      <th>prediction</th>\n",
              "      <th>real_class</th>\n",
              "    </tr>\n",
              "  </thead>\n",
              "  <tbody>\n",
              "    <tr>\n",
              "      <th>3</th>\n",
              "      <td>2</td>\n",
              "      <td>1</td>\n",
              "      <td>0</td>\n",
              "      <td>1</td>\n",
              "      <td>0</td>\n",
              "      <td>0</td>\n",
              "    </tr>\n",
              "    <tr>\n",
              "      <th>7</th>\n",
              "      <td>0</td>\n",
              "      <td>1</td>\n",
              "      <td>0</td>\n",
              "      <td>1</td>\n",
              "      <td>0</td>\n",
              "      <td>1</td>\n",
              "    </tr>\n",
              "    <tr>\n",
              "      <th>6</th>\n",
              "      <td>1</td>\n",
              "      <td>0</td>\n",
              "      <td>1</td>\n",
              "      <td>0</td>\n",
              "      <td>0</td>\n",
              "      <td>0</td>\n",
              "    </tr>\n",
              "    <tr>\n",
              "      <th>2</th>\n",
              "      <td>1</td>\n",
              "      <td>3</td>\n",
              "      <td>0</td>\n",
              "      <td>1</td>\n",
              "      <td>1</td>\n",
              "      <td>0</td>\n",
              "    </tr>\n",
              "    <tr>\n",
              "      <th>10</th>\n",
              "      <td>0</td>\n",
              "      <td>1</td>\n",
              "      <td>1</td>\n",
              "      <td>0</td>\n",
              "      <td>0</td>\n",
              "      <td>0</td>\n",
              "    </tr>\n",
              "  </tbody>\n",
              "</table>\n",
              "</div>"
            ],
            "text/plain": [
              "    Usia  Pendapatan   Pelajar  Kredit   prediction  real_class\n",
              "3      2            1        0        1           0           0\n",
              "7      0            1        0        1           0           1\n",
              "6      1            0        1        0           0           0\n",
              "2      1            3        0        1           1           0\n",
              "10     0            1        1        0           0           0"
            ]
          },
          "metadata": {
            "tags": []
          },
          "execution_count": 41
        }
      ]
    },
    {
      "cell_type": "markdown",
      "metadata": {
        "id": "6Aodz4fUDJJ3",
        "colab_type": "text"
      },
      "source": [
        "**SAVE THE MODEL AS FILE .pkl**"
      ]
    },
    {
      "cell_type": "code",
      "metadata": {
        "id": "_wPIc2fLomJu",
        "colab_type": "code",
        "colab": {}
      },
      "source": [
        "from sklearn.externals import joblib"
      ],
      "execution_count": 0,
      "outputs": []
    },
    {
      "cell_type": "code",
      "metadata": {
        "id": "dKgZBo5Qopk0",
        "colab_type": "code",
        "outputId": "50aa2659-a2d1-4772-9652-b3344efc5636",
        "colab": {
          "base_uri": "https://localhost:8080/",
          "height": 35
        }
      },
      "source": [
        "joblib.dump(naive_bayes, '/content/gdrive/My Drive/Komputer-Naive Bayes/Transaksi pembelian komputer.pkl')"
      ],
      "execution_count": 20,
      "outputs": [
        {
          "output_type": "execute_result",
          "data": {
            "text/plain": [
              "['/content/gdrive/My Drive/Komputer-Naive Bayes/Transaksi pembelian komputer.pkl']"
            ]
          },
          "metadata": {
            "tags": []
          },
          "execution_count": 20
        }
      ]
    },
    {
      "cell_type": "markdown",
      "metadata": {
        "id": "qzlrWUiODVy5",
        "colab_type": "text"
      },
      "source": [
        "**BATCH OF PREDIKSON**"
      ]
    },
    {
      "cell_type": "code",
      "metadata": {
        "id": "TJCjSMx9pKOa",
        "colab_type": "code",
        "colab": {}
      },
      "source": [
        "import pandas as pd\n",
        "from sklearn.model_selection import train_test_split\n",
        "from sklearn.ensemble import RandomForestClassifier\n",
        "from sklearn.externals import joblib"
      ],
      "execution_count": 0,
      "outputs": []
    },
    {
      "cell_type": "markdown",
      "metadata": {
        "id": "GyhsOKwLDeJh",
        "colab_type": "text"
      },
      "source": [
        "**EXTRACT**"
      ]
    },
    {
      "cell_type": "code",
      "metadata": {
        "id": "DdzI0CpxpSU0",
        "colab_type": "code",
        "outputId": "656d8391-2b54-4412-e4f2-5f60f16e7ec0",
        "colab": {
          "base_uri": "https://localhost:8080/",
          "height": 79
        }
      },
      "source": [
        "df = pd.read_csv('/content/gdrive/My Drive/Komputer-Naive Bayes/Transaksi pembelian komputer -Testing.csv')\n",
        "testing_komputer = pd.DataFrame(df)\n",
        "testing_komputer.head()"
      ],
      "execution_count": 47,
      "outputs": [
        {
          "output_type": "execute_result",
          "data": {
            "text/html": [
              "<div>\n",
              "<style scoped>\n",
              "    .dataframe tbody tr th:only-of-type {\n",
              "        vertical-align: middle;\n",
              "    }\n",
              "\n",
              "    .dataframe tbody tr th {\n",
              "        vertical-align: top;\n",
              "    }\n",
              "\n",
              "    .dataframe thead th {\n",
              "        text-align: right;\n",
              "    }\n",
              "</style>\n",
              "<table border=\"1\" class=\"dataframe\">\n",
              "  <thead>\n",
              "    <tr style=\"text-align: right;\">\n",
              "      <th></th>\n",
              "      <th>Usia</th>\n",
              "      <th>Pendapatan</th>\n",
              "      <th>Pelajar</th>\n",
              "      <th>Kredit</th>\n",
              "    </tr>\n",
              "  </thead>\n",
              "  <tbody>\n",
              "    <tr>\n",
              "      <th>0</th>\n",
              "      <td>tua</td>\n",
              "      <td>tinggi</td>\n",
              "      <td>tidak</td>\n",
              "      <td>macet</td>\n",
              "    </tr>\n",
              "  </tbody>\n",
              "</table>\n",
              "</div>"
            ],
            "text/plain": [
              "  Usia Pendapatan  Pelajar Kredit \n",
              "0  tua      tinggi   tidak   macet"
            ]
          },
          "metadata": {
            "tags": []
          },
          "execution_count": 47
        }
      ]
    },
    {
      "cell_type": "markdown",
      "metadata": {
        "id": "tP2dod9tDze1",
        "colab_type": "text"
      },
      "source": [
        "**LabelEncoder & OneHotEncoder**\n",
        "\n",
        "The labelEncoder and OneHotEncoder only works on categorical features. We need first to extract the categorial featuers using boolean mask."
      ]
    },
    {
      "cell_type": "code",
      "metadata": {
        "id": "7ydeq-q5qpxa",
        "colab_type": "code",
        "colab": {}
      },
      "source": [
        "# Categorical boolean mask\n",
        "categorical_feature_mask = testing_komputer.dtypes==object\n",
        "# filter categorical columns using mask and turn it into a list\n",
        "categorical_cols = testing_komputer.columns[categorical_feature_mask].tolist()"
      ],
      "execution_count": 0,
      "outputs": []
    },
    {
      "cell_type": "code",
      "metadata": {
        "id": "pSHHhVvSqzPh",
        "colab_type": "code",
        "outputId": "72948087-f94b-4223-f678-b9d10a020f35",
        "colab": {
          "base_uri": "https://localhost:8080/",
          "height": 79
        }
      },
      "source": [
        "# apply le on categorical feature columns\n",
        "testing_komputer[categorical_cols] = komputer[categorical_cols].apply(lambda col: le.fit_transform(col))\n",
        "testing_komputer[categorical_cols].head()"
      ],
      "execution_count": 50,
      "outputs": [
        {
          "output_type": "execute_result",
          "data": {
            "text/html": [
              "<div>\n",
              "<style scoped>\n",
              "    .dataframe tbody tr th:only-of-type {\n",
              "        vertical-align: middle;\n",
              "    }\n",
              "\n",
              "    .dataframe tbody tr th {\n",
              "        vertical-align: top;\n",
              "    }\n",
              "\n",
              "    .dataframe thead th {\n",
              "        text-align: right;\n",
              "    }\n",
              "</style>\n",
              "<table border=\"1\" class=\"dataframe\">\n",
              "  <thead>\n",
              "    <tr style=\"text-align: right;\">\n",
              "      <th></th>\n",
              "      <th>Usia</th>\n",
              "      <th>Pendapatan</th>\n",
              "      <th>Pelajar</th>\n",
              "      <th>Kredit</th>\n",
              "    </tr>\n",
              "  </thead>\n",
              "  <tbody>\n",
              "    <tr>\n",
              "      <th>0</th>\n",
              "      <td>0</td>\n",
              "      <td>2</td>\n",
              "      <td>0</td>\n",
              "      <td>1</td>\n",
              "    </tr>\n",
              "  </tbody>\n",
              "</table>\n",
              "</div>"
            ],
            "text/plain": [
              "   Usia  Pendapatan   Pelajar  Kredit \n",
              "0     0            2        0        1"
            ]
          },
          "metadata": {
            "tags": []
          },
          "execution_count": 50
        }
      ]
    },
    {
      "cell_type": "markdown",
      "metadata": {
        "id": "AboOCpVhD89W",
        "colab_type": "text"
      },
      "source": [
        "**TRANSFORM**"
      ]
    },
    {
      "cell_type": "code",
      "metadata": {
        "id": "ETi4Bpf_pcbX",
        "colab_type": "code",
        "colab": {}
      },
      "source": [
        "naive_bayes_model_load = joblib.load('/content/gdrive/My Drive/Komputer-Naive Bayes/Transaksi pembelian komputer.pkl')"
      ],
      "execution_count": 0,
      "outputs": []
    },
    {
      "cell_type": "code",
      "metadata": {
        "id": "TKeyh0E5prGY",
        "colab_type": "code",
        "colab": {}
      },
      "source": [
        "testing_komputer['prediction'] = naive_bayes_model_load.predict(testing_komputer)"
      ],
      "execution_count": 0,
      "outputs": []
    },
    {
      "cell_type": "code",
      "metadata": {
        "id": "lYFvowZXrJvH",
        "colab_type": "code",
        "outputId": "c8fb0f83-2817-4340-94ec-7ad4e4ade1d3",
        "colab": {
          "base_uri": "https://localhost:8080/",
          "height": 79
        }
      },
      "source": [
        "testing_komputer.head()\n"
      ],
      "execution_count": 53,
      "outputs": [
        {
          "output_type": "execute_result",
          "data": {
            "text/html": [
              "<div>\n",
              "<style scoped>\n",
              "    .dataframe tbody tr th:only-of-type {\n",
              "        vertical-align: middle;\n",
              "    }\n",
              "\n",
              "    .dataframe tbody tr th {\n",
              "        vertical-align: top;\n",
              "    }\n",
              "\n",
              "    .dataframe thead th {\n",
              "        text-align: right;\n",
              "    }\n",
              "</style>\n",
              "<table border=\"1\" class=\"dataframe\">\n",
              "  <thead>\n",
              "    <tr style=\"text-align: right;\">\n",
              "      <th></th>\n",
              "      <th>Usia</th>\n",
              "      <th>Pendapatan</th>\n",
              "      <th>Pelajar</th>\n",
              "      <th>Kredit</th>\n",
              "      <th>prediction</th>\n",
              "    </tr>\n",
              "  </thead>\n",
              "  <tbody>\n",
              "    <tr>\n",
              "      <th>0</th>\n",
              "      <td>0</td>\n",
              "      <td>2</td>\n",
              "      <td>0</td>\n",
              "      <td>1</td>\n",
              "      <td>1</td>\n",
              "    </tr>\n",
              "  </tbody>\n",
              "</table>\n",
              "</div>"
            ],
            "text/plain": [
              "   Usia  Pendapatan   Pelajar  Kredit   prediction\n",
              "0     0            2        0        1           1"
            ]
          },
          "metadata": {
            "tags": []
          },
          "execution_count": 53
        }
      ]
    },
    {
      "cell_type": "markdown",
      "metadata": {
        "id": "2FmUeFMXEEbS",
        "colab_type": "text"
      },
      "source": [
        "**LOAD**"
      ]
    },
    {
      "cell_type": "code",
      "metadata": {
        "id": "E-ydFvQ5sAbE",
        "colab_type": "code",
        "colab": {}
      },
      "source": [
        "testing_komputer.to_csv(\"/content/gdrive/My Drive/Komputer-Naive Bayes/Hasil Klasifikasi pembelian komputer.csv\", sep=',',index=False)"
      ],
      "execution_count": 0,
      "outputs": []
    }
  ]
}